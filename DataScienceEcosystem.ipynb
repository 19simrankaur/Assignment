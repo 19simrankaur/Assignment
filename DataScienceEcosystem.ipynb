{
  "cells": [
    {
      "attachments": {},
      "cell_type": "markdown",
      "metadata": {},
      "source": [
        "## Ecercise 2"
      ]
    },
    {
      "attachments": {},
      "cell_type": "markdown",
      "metadata": {},
      "source": [
        "## Excercise 3\n",
        "\n",
        "## Introduction\n",
        "\n",
        "Welcome to my notebook! In this notebook, we will explore various data analysis techniques and demonstrate the power of Jupyter Notebook. \n",
        "\n",
        "Data analysis is a crucial aspect of many domains, including business, finance, healthcare, and more. With Jupyter Notebook, we can combine code, text, and visualizations in a single document, making it an excellent tool for exploratory data analysis, documentation, and collaboration.\n",
        "\n",
        "Throughout this notebook, we will cover different data analysis methods, showcase interactive visualizations, and provide explanations of the code and techniques used. Feel free to follow along, experiment with the code, and adapt it to your specific needs.\n",
        "\n",
        "Let's get started and dive into the exciting world of data analysis using Jupyter Notebook!"
      ]
    },
    {
      "attachments": {},
      "cell_type": "markdown",
      "metadata": {},
      "source": [
        "## Exercise 4\n",
        "\n",
        "Data Science Languages:\n",
        "- Python\n",
        "- R\n",
        "- Julia\n",
        "- MATLAB\n",
        "- SAS\n",
        "- SQL\n",
        "- Scala\n",
        "- Java\n",
        "- C++\n",
        "- Julia\n",
        "- Perl\n",
        "- Ruby\n",
        "\n"
      ]
    },
    {
      "attachments": {},
      "cell_type": "markdown",
      "metadata": {},
      "source": [
        "## Exercise 5\n",
        "## Data Science Libraries\n",
        "\n",
        "In this notebook, we will be utilizing various data science libraries to perform our data analysis tasks. Below are some of the popular libraries that we will be working with:\n",
        "\n",
        "- **NumPy**: A fundamental library for numerical computing in Python, providing powerful tools for working with arrays and matrices.\n",
        "\n",
        "- **Pandas**: A versatile library for data manipulation and analysis, offering data structures and functions to efficiently handle structured data.\n",
        "\n",
        "- **Matplotlib**: A widely-used plotting library that enables us to create static, animated, and interactive visualizations in Python.\n",
        "\n",
        "- **Seaborn**: Built on top of Matplotlib, Seaborn provides a high-level interface for creating beautiful and informative statistical graphics.\n",
        "\n",
        "- **Scikit-learn**: A comprehensive machine learning library offering a wide range of algorithms and tools for data mining, analysis, and modeling.\n",
        "\n",
        "- **TensorFlow**: A popular deep learning framework that facilitates the creation and deployment of machine learning models, particularly for neural networks.\n",
        "\n",
        "- **PyTorch**: Another powerful deep learning framework that emphasizes flexibility and dynamic computational graphs.\n",
        "\n",
        "- **Statsmodels**: A library that focuses on statistical modeling and hypothesis testing, providing a range of statistical models and functions.\n",
        "\n",
        "These are just a few examples of the many data science libraries available in Python. We will explore and leverage these libraries throughout this notebook to perform our data analysis tasks efficiently and effectively."
      ]
    },
    {
      "attachments": {},
      "cell_type": "markdown",
      "metadata": {},
      "source": [
        "## Exercise 6\n",
        "## Data Science Tools\n",
        "\n",
        "In the field of data science, there are numerous tools available to perform various tasks. Below is a table showcasing some popular Data Science tools and their key features:\n",
        "\n",
        "| Tool             | Description                                      |\n",
        "| ---------------- | ------------------------------------------------ |\n",
        "| Jupyter Notebook | Interactive environment for data analysis and documentation. |\n",
        "| RStudio          | Integrated development environment (IDE) for R programming language. |\n",
        "| PyCharm          | Python IDE with advanced coding and debugging capabilities. |\n",
        "| Tableau          | Data visualization tool for creating interactive and visually appealing dashboards. |\n",
        "| Power BI         | Business intelligence tool for data visualization and analysis. |\n",
        "| KNIME            | Open-source data analytics platform for visual programming and workflow creation. |\n",
        "| RapidMiner       | Integrated platform for data preparation, machine learning, and predictive modeling. |\n",
        "| Apache Spark     | Distributed computing framework for big data processing and analytics. |\n",
        "| SAS              | Statistical software suite for advanced analytics and predictive modeling. |\n",
        "| MATLAB           | Proprietary programming language and development environment for numerical computing. |\n",
        "\n",
        "This table provides a glimpse of some popular tools used in the field of data science. Depending on your specific needs and preferences, you can explore and utilize these tools to enhance your data analysis and modeling capabilities.\n"
      ]
    },
    {
      "attachments": {},
      "cell_type": "markdown",
      "metadata": {},
      "source": [
        "##Exercise 7\n",
        "## Arithmetic Expressions\n",
        "\n",
        "Arithmetic expressions play a fundamental role in mathematical computations. In this section, we will explore some common arithmetic operations and provide examples to illustrate their usage.\n",
        "\n",
        "### Addition\n",
        "\n",
        "Addition is used to find the total sum of two or more numbers. For example:"
      ]
    },
    {
      "cell_type": "code",
      "execution_count": 1,
      "metadata": {
        "trusted": true
      },
      "outputs": [
        {
          "data": {
            "text/plain": [
              "5"
            ]
          },
          "execution_count": 1,
          "metadata": {},
          "output_type": "execute_result"
        }
      ],
      "source": [
        "2+3"
      ]
    },
    {
      "attachments": {},
      "cell_type": "markdown",
      "metadata": {},
      "source": [
        "### Subtraction\n",
        "\n",
        "Subtraction is used to find the difference between two numbers. For example:"
      ]
    },
    {
      "cell_type": "code",
      "execution_count": 2,
      "metadata": {
        "trusted": true
      },
      "outputs": [
        {
          "data": {
            "text/plain": [
              "4"
            ]
          },
          "execution_count": 2,
          "metadata": {},
          "output_type": "execute_result"
        }
      ],
      "source": [
        "8-4"
      ]
    },
    {
      "cell_type": "code",
      "execution_count": 3,
      "metadata": {
        "trusted": true
      },
      "outputs": [
        {
          "name": "stdout",
          "output_type": "stream",
          "text": [
            "Multiplication result: 50\n",
            "Addition result: 15\n"
          ]
        }
      ],
      "source": [
        "## Exercise 8\n",
        "# Multiply and Add Numbers\n",
        "number1 = 5\n",
        "number2 = 10\n",
        "\n",
        "# Multiply the numbers\n",
        "result_multiply = number1 * number2\n",
        "\n",
        "# Add the numbers\n",
        "result_add = number1 + number2\n",
        "\n",
        "# Print the results\n",
        "print(\"Multiplication result:\", result_multiply)\n",
        "print(\"Addition result:\", result_add)\n"
      ]
    },
    {
      "cell_type": "code",
      "execution_count": 4,
      "metadata": {
        "trusted": true
      },
      "outputs": [
        {
          "name": "stdout",
          "output_type": "stream",
          "text": [
            "The equivalent hours: 2.0\n"
          ]
        }
      ],
      "source": [
        "# Exercise 9\n",
        "# Convert Minutes to Hours\n",
        "minutes = 120\n",
        "\n",
        "# Calculate the hours\n",
        "hours = minutes / 60\n",
        "\n",
        "# Print the result\n",
        "print(\"The equivalent hours:\", hours)"
      ]
    },
    {
      "attachments": {},
      "cell_type": "markdown",
      "metadata": {},
      "source": [
        "\n",
        "## Exercise 10\n",
        "## Objectives\n",
        "\n",
        "1. Understand the problem statement.\n",
        "2. Identify key requirements and constraints.\n",
        "3. Design an appropriate solution approach.\n",
        "4. Implement the solution code.\n",
        "5. Test and debug the code for correctness.\n",
        "6. Optimize the code for efficiency.\n",
        "7. Document the code and provide clear explanations.\n",
        "8. Present the final solution to stakeholders.\n",
        "9. Reflect on the project and identify areas for improvement."
      ]
    },
    {
      "attachments": {},
      "cell_type": "markdown",
      "metadata": {},
      "source": [
        "## Exercise 11\n",
        "Author: John Doe"
      ]
    }
  ],
  "metadata": {
    "kernelspec": {
      "display_name": "Python (Pyodide)",
      "language": "python",
      "name": "python"
    },
    "language_info": {
      "codemirror_mode": {
        "name": "python",
        "version": 3
      },
      "file_extension": ".py",
      "mimetype": "text/x-python",
      "name": "python",
      "nbconvert_exporter": "python",
      "pygments_lexer": "ipython3",
      "version": "3.8"
    }
  },
  "nbformat": 4,
  "nbformat_minor": 4
}
